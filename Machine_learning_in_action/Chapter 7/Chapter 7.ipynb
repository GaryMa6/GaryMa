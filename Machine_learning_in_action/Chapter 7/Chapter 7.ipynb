{
 "cells": [
  {
   "cell_type": "markdown",
   "id": "3d025f81",
   "metadata": {},
   "source": [
    "# 7.1"
   ]
  },
  {
   "cell_type": "code",
   "execution_count": 1,
   "id": "8c8a36a9",
   "metadata": {},
   "outputs": [],
   "source": [
    "from sklearn.model_selection import train_test_split\n",
    "from sklearn.datasets import make_moons\n",
    "X, y = make_moons(n_samples=500, noise=0.30, random_state=42)\n",
    "X_train, X_test, y_train, y_test = train_test_split(X, y, random_state=42)"
   ]
  },
  {
   "cell_type": "code",
   "execution_count": 3,
   "id": "294fd2ac",
   "metadata": {},
   "outputs": [
    {
     "data": {
      "text/plain": [
       "VotingClassifier(estimators=[('lr', LogisticRegression()),\n",
       "                             ('rf', RandomForestClassifier()), ('svc', SVC())])"
      ]
     },
     "execution_count": 3,
     "metadata": {},
     "output_type": "execute_result"
    }
   ],
   "source": [
    "from sklearn.ensemble import RandomForestClassifier\n",
    "from sklearn.ensemble import VotingClassifier\n",
    "from sklearn.linear_model import LogisticRegression\n",
    "from sklearn.svm import SVC\n",
    "\n",
    "log_clf = LogisticRegression()\n",
    "rnd_clf = RandomForestClassifier()\n",
    "svm_clf = SVC()\n",
    "voting_clf = VotingClassifier(\n",
    "    estimators=[('lr',log_clf),('rf',rnd_clf),('svc',svm_clf)],\n",
    "    voting='hard')\n",
    "voting_clf.fit(X_train,y_train)"
   ]
  },
  {
   "cell_type": "code",
   "execution_count": 6,
   "id": "6bb63150",
   "metadata": {},
   "outputs": [
    {
     "name": "stdout",
     "output_type": "stream",
     "text": [
      "LogisticRegression 0.864\n",
      "RandomForestClassifier 0.872\n",
      "SVC 0.896\n",
      "VotingClassifier 0.904\n"
     ]
    }
   ],
   "source": [
    "from sklearn.metrics import accuracy_score\n",
    "for clf in (log_clf,rnd_clf,svm_clf,voting_clf):\n",
    "    clf.fit(X_train,y_train)\n",
    "    y_pred=clf.predict(X_test)\n",
    "    print(clf.__class__.__name__,accuracy_score(y_test,y_pred))"
   ]
  },
  {
   "cell_type": "markdown",
   "id": "ee4f5b2c",
   "metadata": {},
   "source": [
    "# 7.2"
   ]
  },
  {
   "cell_type": "code",
   "execution_count": 7,
   "id": "c31e86d9",
   "metadata": {},
   "outputs": [],
   "source": [
    "from sklearn.ensemble import BaggingClassifier\n",
    "from sklearn.tree import DecisionTreeClassifier\n",
    "bag_clf = BaggingClassifier(\n",
    "    DecisionTreeClassifier(),n_estimators=500,\n",
    "    max_samples=100,bootstrap=True,n_jobs=-1)\n",
    "bag_clf.fit(X_train,y_train)\n",
    "y_pred=bag_clf.predict(X_test)"
   ]
  },
  {
   "cell_type": "code",
   "execution_count": 8,
   "id": "6689719e",
   "metadata": {},
   "outputs": [
    {
     "data": {
      "text/plain": [
       "0.9253333333333333"
      ]
     },
     "execution_count": 8,
     "metadata": {},
     "output_type": "execute_result"
    }
   ],
   "source": [
    "bag_clf = BaggingClassifier(\n",
    "    DecisionTreeClassifier(),n_estimators=500,\n",
    "    max_samples=100,bootstrap=True,n_jobs=-1,oob_score=True)\n",
    "bag_clf.fit(X_train,y_train)\n",
    "bag_clf.oob_score_"
   ]
  },
  {
   "cell_type": "code",
   "execution_count": 9,
   "id": "9a13a01f",
   "metadata": {},
   "outputs": [
    {
     "data": {
      "text/plain": [
       "0.912"
      ]
     },
     "execution_count": 9,
     "metadata": {},
     "output_type": "execute_result"
    }
   ],
   "source": [
    "from sklearn.metrics import accuracy_score\n",
    "y_pred = bag_clf.predict(X_test)\n",
    "accuracy_score(y_test,y_pred)"
   ]
  },
  {
   "cell_type": "code",
   "execution_count": 10,
   "id": "710335d5",
   "metadata": {},
   "outputs": [
    {
     "data": {
      "text/plain": [
       "array([[0.34564644, 0.65435356],\n",
       "       [0.43229167, 0.56770833],\n",
       "       [0.99737533, 0.00262467],\n",
       "       [0.01546392, 0.98453608],\n",
       "       [0.02624672, 0.97375328],\n",
       "       [0.1031746 , 0.8968254 ],\n",
       "       [0.40703518, 0.59296482],\n",
       "       [0.08266667, 0.91733333],\n",
       "       [0.92857143, 0.07142857],\n",
       "       [0.845953  , 0.154047  ],\n",
       "       [0.55831266, 0.44168734],\n",
       "       [0.04960836, 0.95039164],\n",
       "       [0.74535809, 0.25464191],\n",
       "       [0.84473684, 0.15526316],\n",
       "       [0.89821883, 0.10178117],\n",
       "       [0.09547739, 0.90452261],\n",
       "       [0.04884319, 0.95115681],\n",
       "       [0.94206549, 0.05793451],\n",
       "       [0.64675325, 0.35324675],\n",
       "       [0.96730245, 0.03269755],\n",
       "       [0.03439153, 0.96560847],\n",
       "       [0.22099448, 0.77900552],\n",
       "       [0.8938992 , 0.1061008 ],\n",
       "       [0.99228792, 0.00771208],\n",
       "       [0.96236559, 0.03763441],\n",
       "       [0.00255754, 0.99744246],\n",
       "       [0.97150259, 0.02849741],\n",
       "       [0.99475066, 0.00524934],\n",
       "       [0.02695418, 0.97304582],\n",
       "       [0.7154047 , 0.2845953 ],\n",
       "       [0.        , 1.        ],\n",
       "       [1.        , 0.        ],\n",
       "       [0.01554404, 0.98445596],\n",
       "       [0.09768638, 0.90231362],\n",
       "       [0.0724234 , 0.9275766 ],\n",
       "       [0.97943445, 0.02056555],\n",
       "       [0.01538462, 0.98461538],\n",
       "       [0.57808219, 0.42191781],\n",
       "       [0.00791557, 0.99208443],\n",
       "       [0.99746835, 0.00253165],\n",
       "       [0.08831169, 0.91168831],\n",
       "       [0.34015345, 0.65984655],\n",
       "       [0.99498747, 0.00501253],\n",
       "       [0.98944591, 0.01055409],\n",
       "       [0.0025974 , 0.9974026 ],\n",
       "       [0.99744898, 0.00255102],\n",
       "       [0.99473684, 0.00526316],\n",
       "       [0.03439153, 0.96560847],\n",
       "       [0.99222798, 0.00777202],\n",
       "       [0.02659574, 0.97340426],\n",
       "       [0.94960212, 0.05039788],\n",
       "       [0.81675393, 0.18324607],\n",
       "       [0.9027027 , 0.0972973 ],\n",
       "       [0.8       , 0.2       ],\n",
       "       [0.01023018, 0.98976982],\n",
       "       [0.09459459, 0.90540541],\n",
       "       [0.85677749, 0.14322251],\n",
       "       [0.00255754, 0.99744246],\n",
       "       [0.02879581, 0.97120419],\n",
       "       [0.04102564, 0.95897436],\n",
       "       [0.85900783, 0.14099217],\n",
       "       [0.62702703, 0.37297297],\n",
       "       [0.71465969, 0.28534031],\n",
       "       [0.98691099, 0.01308901],\n",
       "       [0.01278772, 0.98721228],\n",
       "       [0.8       , 0.2       ],\n",
       "       [0.99193548, 0.00806452],\n",
       "       [0.99242424, 0.00757576],\n",
       "       [0.61741425, 0.38258575],\n",
       "       [0.97938144, 0.02061856],\n",
       "       [0.32731959, 0.67268041],\n",
       "       [0.32010582, 0.67989418],\n",
       "       [0.4005168 , 0.5994832 ],\n",
       "       [0.67357513, 0.32642487],\n",
       "       [0.00519481, 0.99480519],\n",
       "       [0.30569948, 0.69430052],\n",
       "       [0.92063492, 0.07936508],\n",
       "       [0.99728997, 0.00271003],\n",
       "       [0.04909561, 0.95090439],\n",
       "       [0.94778068, 0.05221932],\n",
       "       [0.01015228, 0.98984772],\n",
       "       [0.20634921, 0.79365079],\n",
       "       [0.15128205, 0.84871795],\n",
       "       [0.48525469, 0.51474531],\n",
       "       [0.98984772, 0.01015228],\n",
       "       [0.03937008, 0.96062992],\n",
       "       [0.66414141, 0.33585859],\n",
       "       [0.0604534 , 0.9395466 ],\n",
       "       [0.03157895, 0.96842105],\n",
       "       [0.0026178 , 0.9973822 ],\n",
       "       [0.33678756, 0.66321244],\n",
       "       [0.99737533, 0.00262467],\n",
       "       [0.00765306, 0.99234694],\n",
       "       [0.04986877, 0.95013123],\n",
       "       [0.02337662, 0.97662338],\n",
       "       [0.75797872, 0.24202128],\n",
       "       [0.69565217, 0.30434783],\n",
       "       [0.08638743, 0.91361257],\n",
       "       [0.99748111, 0.00251889],\n",
       "       [0.30687831, 0.69312169],\n",
       "       [0.66666667, 0.33333333],\n",
       "       [0.00533333, 0.99466667],\n",
       "       [0.08      , 0.92      ],\n",
       "       [0.40789474, 0.59210526],\n",
       "       [0.98721228, 0.01278772],\n",
       "       [0.05927835, 0.94072165],\n",
       "       [0.98209719, 0.01790281],\n",
       "       [0.41343669, 0.58656331],\n",
       "       [0.26541555, 0.73458445],\n",
       "       [0.99742931, 0.00257069],\n",
       "       [0.27005348, 0.72994652],\n",
       "       [0.84920635, 0.15079365],\n",
       "       [0.28157895, 0.71842105],\n",
       "       [0.77805486, 0.22194514],\n",
       "       [0.9974359 , 0.0025641 ],\n",
       "       [0.98891967, 0.01108033],\n",
       "       [0.        , 1.        ],\n",
       "       [0.00524934, 0.99475066],\n",
       "       [0.44827586, 0.55172414],\n",
       "       [0.98966408, 0.01033592],\n",
       "       [0.06493506, 0.93506494],\n",
       "       [0.98969072, 0.01030928],\n",
       "       [0.97105263, 0.02894737],\n",
       "       [1.        , 0.        ],\n",
       "       [0.93333333, 0.06666667],\n",
       "       [0.97186701, 0.02813299],\n",
       "       [0.05141388, 0.94858612],\n",
       "       [0.95555556, 0.04444444],\n",
       "       [0.95833333, 0.04166667],\n",
       "       [0.02349869, 0.97650131],\n",
       "       [0.26153846, 0.73846154],\n",
       "       [0.8714653 , 0.1285347 ],\n",
       "       [0.37913486, 0.62086514],\n",
       "       [0.93908629, 0.06091371],\n",
       "       [0.        , 1.        ],\n",
       "       [0.03149606, 0.96850394],\n",
       "       [0.80474934, 0.19525066],\n",
       "       [0.75125628, 0.24874372],\n",
       "       [0.55702918, 0.44297082],\n",
       "       [0.85106383, 0.14893617],\n",
       "       [0.93489583, 0.06510417],\n",
       "       [0.15665796, 0.84334204],\n",
       "       [0.80628272, 0.19371728],\n",
       "       [0.05      , 0.95      ],\n",
       "       [0.00787402, 0.99212598],\n",
       "       [0.1122449 , 0.8877551 ],\n",
       "       [0.79373368, 0.20626632],\n",
       "       [0.98425197, 0.01574803],\n",
       "       [0.99731903, 0.00268097],\n",
       "       [0.03713528, 0.96286472],\n",
       "       [0.00806452, 0.99193548],\n",
       "       [0.0817942 , 0.9182058 ],\n",
       "       [0.0265252 , 0.9734748 ],\n",
       "       [0.99226804, 0.00773196],\n",
       "       [0.984375  , 0.015625  ],\n",
       "       [0.88315217, 0.11684783],\n",
       "       [0.99450549, 0.00549451],\n",
       "       [0.99744246, 0.00255754],\n",
       "       [0.91129032, 0.08870968],\n",
       "       [0.01608579, 0.98391421],\n",
       "       [0.74133333, 0.25866667],\n",
       "       [0.3255814 , 0.6744186 ],\n",
       "       [0.02887139, 0.97112861],\n",
       "       [0.01344086, 0.98655914],\n",
       "       [0.34324324, 0.65675676],\n",
       "       [0.99736842, 0.00263158],\n",
       "       [0.97662338, 0.02337662],\n",
       "       [0.        , 1.        ],\n",
       "       [0.98408488, 0.01591512],\n",
       "       [0.05107527, 0.94892473],\n",
       "       [0.00530504, 0.99469496],\n",
       "       [0.92722372, 0.07277628],\n",
       "       [0.01308901, 0.98691099],\n",
       "       [0.0025974 , 0.9974026 ],\n",
       "       [1.        , 0.        ],\n",
       "       [0.02290076, 0.97709924],\n",
       "       [0.81697613, 0.18302387],\n",
       "       [0.92248062, 0.07751938],\n",
       "       [0.05235602, 0.94764398],\n",
       "       [0.97368421, 0.02631579],\n",
       "       [0.91815857, 0.08184143],\n",
       "       [0.98753117, 0.01246883],\n",
       "       [0.01333333, 0.98666667],\n",
       "       [0.01333333, 0.98666667],\n",
       "       [0.99728261, 0.00271739],\n",
       "       [0.22047244, 0.77952756],\n",
       "       [0.99238579, 0.00761421],\n",
       "       [0.09511568, 0.90488432],\n",
       "       [0.01055409, 0.98944591],\n",
       "       [0.9919571 , 0.0080429 ],\n",
       "       [0.        , 1.        ],\n",
       "       [0.1671159 , 0.8328841 ],\n",
       "       [0.90379747, 0.09620253],\n",
       "       [0.91644909, 0.08355091],\n",
       "       [0.61696658, 0.38303342],\n",
       "       [0.71025641, 0.28974359],\n",
       "       [0.03743316, 0.96256684],\n",
       "       [0.23636364, 0.76363636],\n",
       "       [0.98740554, 0.01259446],\n",
       "       [0.9075    , 0.0925    ],\n",
       "       [0.93513514, 0.06486486],\n",
       "       [0.97932817, 0.02067183],\n",
       "       [0.05684755, 0.94315245],\n",
       "       [0.01861702, 0.98138298],\n",
       "       [0.09259259, 0.90740741],\n",
       "       [0.50913838, 0.49086162],\n",
       "       [0.        , 1.        ],\n",
       "       [0.01072386, 0.98927614],\n",
       "       [0.97319035, 0.02680965],\n",
       "       [0.05974026, 0.94025974],\n",
       "       [0.12564103, 0.87435897],\n",
       "       [0.91780822, 0.08219178],\n",
       "       [0.078125  , 0.921875  ],\n",
       "       [0.37564767, 0.62435233],\n",
       "       [0.00779221, 0.99220779],\n",
       "       [0.99746835, 0.00253165],\n",
       "       [0.0125    , 0.9875    ],\n",
       "       [0.01344086, 0.98655914],\n",
       "       [0.93830334, 0.06169666],\n",
       "       [0.92424242, 0.07575758],\n",
       "       [0.95405405, 0.04594595],\n",
       "       [0.01305483, 0.98694517],\n",
       "       [0.08051948, 0.91948052],\n",
       "       [0.9453125 , 0.0546875 ],\n",
       "       [0.13212435, 0.86787565],\n",
       "       [0.00255754, 0.99744246],\n",
       "       [0.28109453, 0.71890547],\n",
       "       [0.97520661, 0.02479339],\n",
       "       [0.85479452, 0.14520548],\n",
       "       [0.12987013, 0.87012987],\n",
       "       [0.77567568, 0.22432432],\n",
       "       [0.9443038 , 0.0556962 ],\n",
       "       [0.13315927, 0.86684073],\n",
       "       [0.15425532, 0.84574468],\n",
       "       [0.98987342, 0.01012658],\n",
       "       [0.        , 1.        ],\n",
       "       [0.0127551 , 0.9872449 ],\n",
       "       [0.02791878, 0.97208122],\n",
       "       [0.32207792, 0.67792208],\n",
       "       [0.86792453, 0.13207547],\n",
       "       [0.05912596, 0.94087404],\n",
       "       [0.98701299, 0.01298701],\n",
       "       [0.8994709 , 0.1005291 ],\n",
       "       [0.00534759, 0.99465241],\n",
       "       [0.77897574, 0.22102426],\n",
       "       [0.98927614, 0.01072386],\n",
       "       [0.        , 1.        ],\n",
       "       [0.99496222, 0.00503778],\n",
       "       [0.05706522, 0.94293478],\n",
       "       [0.01069519, 0.98930481],\n",
       "       [0.1037234 , 0.8962766 ],\n",
       "       [0.232     , 0.768     ],\n",
       "       [0.87365591, 0.12634409],\n",
       "       [0.08157895, 0.91842105],\n",
       "       [0.98930481, 0.01069519],\n",
       "       [0.6625    , 0.3375    ],\n",
       "       [0.09254499, 0.90745501],\n",
       "       [0.67716535, 0.32283465],\n",
       "       [0.88743455, 0.11256545],\n",
       "       [0.01481481, 0.98518519],\n",
       "       [0.99744246, 0.00255754],\n",
       "       [0.01351351, 0.98648649],\n",
       "       [0.        , 1.        ],\n",
       "       [0.73368146, 0.26631854],\n",
       "       [0.        , 1.        ],\n",
       "       [0.98157895, 0.01842105],\n",
       "       [0.1061008 , 0.8938992 ],\n",
       "       [0.79088472, 0.20911528],\n",
       "       [0.12144703, 0.87855297],\n",
       "       [0.99731183, 0.00268817],\n",
       "       [0.86979167, 0.13020833],\n",
       "       [0.00757576, 0.99242424],\n",
       "       [0.08093995, 0.91906005],\n",
       "       [0.14322251, 0.85677749],\n",
       "       [0.10103627, 0.89896373],\n",
       "       [0.0025974 , 0.9974026 ],\n",
       "       [0.98157895, 0.01842105],\n",
       "       [0.84366577, 0.15633423],\n",
       "       [0.15223097, 0.84776903],\n",
       "       [0.91383812, 0.08616188],\n",
       "       [0.05102041, 0.94897959],\n",
       "       [0.61357702, 0.38642298],\n",
       "       [0.12919897, 0.87080103],\n",
       "       [0.96031746, 0.03968254],\n",
       "       [0.8489011 , 0.1510989 ],\n",
       "       [0.01038961, 0.98961039],\n",
       "       [0.94764398, 0.05235602],\n",
       "       [0.88113695, 0.11886305],\n",
       "       [0.00254453, 0.99745547],\n",
       "       [0.06994819, 0.93005181],\n",
       "       [0.99731183, 0.00268817],\n",
       "       [0.04834606, 0.95165394],\n",
       "       [0.99228792, 0.00771208],\n",
       "       [0.08268734, 0.91731266],\n",
       "       [0.89350649, 0.10649351],\n",
       "       [0.99494949, 0.00505051],\n",
       "       [0.01574803, 0.98425197],\n",
       "       [0.0546875 , 0.9453125 ],\n",
       "       [0.66754617, 0.33245383],\n",
       "       [0.        , 1.        ],\n",
       "       [0.99488491, 0.00511509],\n",
       "       [0.68159204, 0.31840796],\n",
       "       [0.86666667, 0.13333333],\n",
       "       [0.99472296, 0.00527704],\n",
       "       [0.72295515, 0.27704485],\n",
       "       [0.47480106, 0.52519894],\n",
       "       [0.02139037, 0.97860963],\n",
       "       [0.85013624, 0.14986376],\n",
       "       [0.00761421, 0.99238579],\n",
       "       [0.9972752 , 0.0027248 ],\n",
       "       [0.73657289, 0.26342711],\n",
       "       [0.99481865, 0.00518135],\n",
       "       [0.99487179, 0.00512821],\n",
       "       [0.84960422, 0.15039578],\n",
       "       [0.28109453, 0.71890547],\n",
       "       [0.12403101, 0.87596899],\n",
       "       [0.21282051, 0.78717949],\n",
       "       [0.00246305, 0.99753695],\n",
       "       [0.75064267, 0.24935733],\n",
       "       [0.87628866, 0.12371134],\n",
       "       [0.03896104, 0.96103896],\n",
       "       [0.9974026 , 0.0025974 ],\n",
       "       [0.97619048, 0.02380952],\n",
       "       [0.99485861, 0.00514139],\n",
       "       [0.00263158, 0.99736842],\n",
       "       [0.05398458, 0.94601542],\n",
       "       [0.9125    , 0.0875    ],\n",
       "       [0.93684211, 0.06315789],\n",
       "       [0.9975    , 0.0025    ],\n",
       "       [0.24626866, 0.75373134],\n",
       "       [0.99014778, 0.00985222],\n",
       "       [0.15167095, 0.84832905],\n",
       "       [0.94601542, 0.05398458],\n",
       "       [0.06185567, 0.93814433],\n",
       "       [0.98157895, 0.01842105],\n",
       "       [0.99736842, 0.00263158],\n",
       "       [0.99228792, 0.00771208],\n",
       "       [0.0025974 , 0.9974026 ],\n",
       "       [0.94148936, 0.05851064],\n",
       "       [0.00787402, 0.99212598],\n",
       "       [0.04113111, 0.95886889],\n",
       "       [0.07397959, 0.92602041],\n",
       "       [0.        , 1.        ],\n",
       "       [0.99746193, 0.00253807],\n",
       "       [0.98677249, 0.01322751],\n",
       "       [0.        , 1.        ],\n",
       "       [0.94339623, 0.05660377],\n",
       "       [0.06582278, 0.93417722],\n",
       "       [0.98982188, 0.01017812],\n",
       "       [0.16071429, 0.83928571],\n",
       "       [0.00519481, 0.99480519],\n",
       "       [0.06923077, 0.93076923],\n",
       "       [0.        , 1.        ],\n",
       "       [0.81944444, 0.18055556],\n",
       "       [0.05093834, 0.94906166],\n",
       "       [0.12690355, 0.87309645],\n",
       "       [1.        , 0.        ],\n",
       "       [0.94056848, 0.05943152],\n",
       "       [0.20365535, 0.79634465],\n",
       "       [0.94878706, 0.05121294],\n",
       "       [0.05898123, 0.94101877],\n",
       "       [0.12962963, 0.87037037],\n",
       "       [0.99236641, 0.00763359],\n",
       "       [0.94324324, 0.05675676],\n",
       "       [0.50645995, 0.49354005],\n",
       "       [0.90314136, 0.09685864],\n",
       "       [1.        , 0.        ],\n",
       "       [0.0298103 , 0.9701897 ],\n",
       "       [0.97843666, 0.02156334],\n",
       "       [0.05655527, 0.94344473],\n",
       "       [0.1598916 , 0.8401084 ],\n",
       "       [0.95854922, 0.04145078],\n",
       "       [0.99745547, 0.00254453],\n",
       "       [0.08695652, 0.91304348],\n",
       "       [0.69109948, 0.30890052]])"
      ]
     },
     "execution_count": 10,
     "metadata": {},
     "output_type": "execute_result"
    }
   ],
   "source": [
    "bag_clf.oob_decision_function_"
   ]
  },
  {
   "cell_type": "markdown",
   "id": "77423686",
   "metadata": {},
   "source": [
    "# 7.4"
   ]
  },
  {
   "cell_type": "code",
   "execution_count": 11,
   "id": "700a48bc",
   "metadata": {},
   "outputs": [],
   "source": [
    "from sklearn.ensemble import RandomForestClassifier\n",
    "rnd_clf = RandomForestClassifier(n_estimators=500,max_leaf_nodes=16,n_jobs=-1)\n",
    "rnd_clf.fit(X_train,y_train)\n",
    "y_pred_rf=rnd_clf.predict(X_test)"
   ]
  },
  {
   "cell_type": "code",
   "execution_count": 15,
   "id": "0b203f99",
   "metadata": {},
   "outputs": [
    {
     "name": "stdout",
     "output_type": "stream",
     "text": [
      "sepal length (cm) 0.09100411118672021\n",
      "sepal width (cm) 0.019854150893885862\n",
      "petal length (cm) 0.4477358430760963\n",
      "petal width (cm) 0.4414058948432975\n"
     ]
    }
   ],
   "source": [
    "from sklearn.datasets import load_iris\n",
    "iris=load_iris()\n",
    "rnd_clf=RandomForestClassifier(n_estimators=500,n_jobs=-1)\n",
    "rnd_clf.fit(iris['data'],iris['target'])\n",
    "for name,score in zip(iris['feature_names'],rnd_clf.feature_importances_):\n",
    "    print(name,score)"
   ]
  },
  {
   "cell_type": "markdown",
   "id": "c966852c",
   "metadata": {},
   "source": [
    "# 7.5"
   ]
  },
  {
   "cell_type": "code",
   "execution_count": 32,
   "id": "cdd13612",
   "metadata": {},
   "outputs": [],
   "source": [
    "np.random.seed(42)\n",
    "X = np.random.rand(100, 1) - 0.5\n",
    "y = 3*X[:, 0]**2 + 0.05 * np.random.randn(100)"
   ]
  },
  {
   "cell_type": "code",
   "execution_count": 33,
   "id": "574ebfb6",
   "metadata": {},
   "outputs": [
    {
     "data": {
      "text/plain": [
       "AdaBoostClassifier(base_estimator=DecisionTreeClassifier(max_depth=1),\n",
       "                   learning_rate=0.5, n_estimators=200)"
      ]
     },
     "execution_count": 33,
     "metadata": {},
     "output_type": "execute_result"
    }
   ],
   "source": [
    "from sklearn.ensemble import AdaBoostClassifier\n",
    "ada_clf =AdaBoostClassifier(\n",
    "    DecisionTreeClassifier(max_depth=1),n_estimators=200,\n",
    "    algorithm='SAMME.R',learning_rate=0.5)\n",
    "ada_clf.fit(X_train,y_train)"
   ]
  },
  {
   "cell_type": "code",
   "execution_count": 34,
   "id": "90caa4c4",
   "metadata": {},
   "outputs": [
    {
     "data": {
      "text/plain": [
       "array([0.75026781])"
      ]
     },
     "execution_count": 34,
     "metadata": {},
     "output_type": "execute_result"
    }
   ],
   "source": [
    "import numpy as np\n",
    "from sklearn.tree import DecisionTreeRegressor\n",
    "tree_reg1=DecisionTreeRegressor(max_depth=2)\n",
    "tree_reg1.fit(X,y)\n",
    "\n",
    "y2 = y-tree_reg1.predict(X)\n",
    "tree_reg2 = DecisionTreeRegressor(max_depth=2)\n",
    "tree_reg2.fit(X,y2)\n",
    "\n",
    "y3 = y2-tree_reg2.predict(X)\n",
    "tree_reg3=DecisionTreeRegressor(max_depth=2)\n",
    "tree_reg3.fit(X,y3)\n",
    "\n",
    "X_new = np.array([[0.8]])\n",
    "y_pred = sum(tree.predict(X_new) for tree in (tree_reg1, tree_reg2, tree_reg3))\n",
    "y_pred"
   ]
  },
  {
   "cell_type": "code",
   "execution_count": 36,
   "id": "0d74c4ad",
   "metadata": {},
   "outputs": [
    {
     "data": {
      "text/plain": [
       "GradientBoostingRegressor(learning_rate=1.0, max_depth=2, n_estimators=3)"
      ]
     },
     "execution_count": 36,
     "metadata": {},
     "output_type": "execute_result"
    }
   ],
   "source": [
    "from sklearn.ensemble import GradientBoostingRegressor\n",
    "gbrt = GradientBoostingRegressor(max_depth=2,n_estimators=3,learning_rate=1.0)\n",
    "gbrt.fit(X,y)"
   ]
  },
  {
   "cell_type": "code",
   "execution_count": 38,
   "id": "42501685",
   "metadata": {},
   "outputs": [
    {
     "data": {
      "text/plain": [
       "GradientBoostingRegressor(max_depth=2, n_estimators=87)"
      ]
     },
     "execution_count": 38,
     "metadata": {},
     "output_type": "execute_result"
    }
   ],
   "source": [
    "from sklearn.metrics import mean_squared_error\n",
    "X_train,X_val,y_train,y_val=train_test_split(X,y)\n",
    "gbrt = GradientBoostingRegressor(max_depth=2,n_estimators=120)\n",
    "gbrt.fit(X_train,y_train)\n",
    "errors = [mean_squared_error(y_val,y_pred)\n",
    "         for y_pred in gbrt.staged_predict(X_val)]\n",
    "best_n_estimators = np.argmin(errors)+1\n",
    "gbrt_best = GradientBoostingRegressor(max_depth=2,n_estimators=best_n_estimators)\n",
    "gbrt_best.fit(X_train,y_train)"
   ]
  },
  {
   "cell_type": "code",
   "execution_count": 39,
   "id": "1c53823f",
   "metadata": {},
   "outputs": [],
   "source": [
    "gbrt = GradientBoostingRegressor(max_depth=2,warm_start=True)\n",
    "min_val_error=float('inf')\n",
    "error_going_up=0\n",
    "for n_estimators in range(1,120):\n",
    "    gbrt.n_estimators = n_estimators\n",
    "    gbrt.fit(X_train,y_train)\n",
    "    y_pred = gbrt.predict(X_val)\n",
    "    val_error = mean_squared_error(y_val,y_pred)\n",
    "    if val_error<min_val_error:\n",
    "        min_val_error=val_error\n",
    "        error_going_up=0\n",
    "    else:\n",
    "        error_going_up+=1\n",
    "        if error_going_up==5:\n",
    "            break"
   ]
  },
  {
   "cell_type": "markdown",
   "id": "907bfde4",
   "metadata": {},
   "source": [
    "# 7.7"
   ]
  },
  {
   "cell_type": "code",
   "execution_count": 46,
   "id": "8ba7c760",
   "metadata": {},
   "outputs": [],
   "source": [
    "from sklearn.datasets import fetch_openml\n",
    "\n",
    "mnist = fetch_openml('mnist_784', version=1, as_frame=False)"
   ]
  },
  {
   "cell_type": "code",
   "execution_count": 47,
   "id": "1341eb9e",
   "metadata": {},
   "outputs": [],
   "source": [
    "X_train_val, X_test, y_train_val, y_test = train_test_split(\n",
    "    mnist.data, mnist.target, test_size=10000, random_state=42)\n",
    "X_train, X_val, y_train, y_val = train_test_split(\n",
    "    X_train_val, y_train_val, test_size=10000, random_state=42)"
   ]
  },
  {
   "cell_type": "code",
   "execution_count": 49,
   "id": "d7d71ab8",
   "metadata": {},
   "outputs": [],
   "source": [
    "from sklearn.ensemble import RandomForestClassifier, ExtraTreesClassifier\n",
    "from sklearn.svm import LinearSVC\n",
    "random_forest_clf = RandomForestClassifier(n_estimators=100, random_state=42)\n",
    "extra_trees_clf = ExtraTreesClassifier(n_estimators=100, random_state=42)\n",
    "svm_clf = LinearSVC(max_iter=100, tol=20, random_state=42)"
   ]
  },
  {
   "cell_type": "code",
   "execution_count": 54,
   "id": "a56dd4d4",
   "metadata": {},
   "outputs": [
    {
     "data": {
      "text/plain": [
       "[0.9692, 0.9715, 0.859]"
      ]
     },
     "execution_count": 54,
     "metadata": {},
     "output_type": "execute_result"
    }
   ],
   "source": [
    "estimators = [random_forest_clf, extra_trees_clf, svm_clf]\n",
    "for estimator in estimators:\n",
    "    estimator.fit(X_train, y_train)\n",
    "[estimator.score(X_val, y_val) for estimator in estimators]"
   ]
  },
  {
   "cell_type": "code",
   "execution_count": 56,
   "id": "ed32f786",
   "metadata": {},
   "outputs": [],
   "source": [
    "from sklearn.ensemble import VotingClassifier\n",
    "named_estimators = [\n",
    "    (\"random_forest_clf\", random_forest_clf),\n",
    "    (\"extra_trees_clf\", extra_trees_clf),\n",
    "    (\"svm_clf\", svm_clf)\n",
    "]"
   ]
  },
  {
   "cell_type": "code",
   "execution_count": 57,
   "id": "91919417",
   "metadata": {},
   "outputs": [
    {
     "data": {
      "text/plain": [
       "0.9693"
      ]
     },
     "execution_count": 57,
     "metadata": {},
     "output_type": "execute_result"
    }
   ],
   "source": [
    "voting_clf = VotingClassifier(named_estimators)\n",
    "voting_clf.fit(X_train, y_train)\n",
    "voting_clf.score(X_val, y_val)"
   ]
  },
  {
   "cell_type": "code",
   "execution_count": 62,
   "id": "8dd51605",
   "metadata": {},
   "outputs": [
    {
     "data": {
      "text/plain": [
       "0.9719"
      ]
     },
     "execution_count": 62,
     "metadata": {},
     "output_type": "execute_result"
    }
   ],
   "source": [
    "del voting_clf.estimators_[2]\n",
    "voting_clf.voting = \"soft\"\n",
    "voting_clf.score(X_val, y_val)"
   ]
  },
  {
   "cell_type": "code",
   "execution_count": 63,
   "id": "c68ba902",
   "metadata": {},
   "outputs": [
    {
     "data": {
      "text/plain": [
       "0.9713"
      ]
     },
     "execution_count": 63,
     "metadata": {},
     "output_type": "execute_result"
    }
   ],
   "source": [
    "voting_clf.voting = \"hard\"\n",
    "voting_clf.score(X_val, y_val)"
   ]
  },
  {
   "cell_type": "code",
   "execution_count": 64,
   "id": "93790484",
   "metadata": {},
   "outputs": [
    {
     "data": {
      "text/plain": [
       "0.9681"
      ]
     },
     "execution_count": 64,
     "metadata": {},
     "output_type": "execute_result"
    }
   ],
   "source": [
    "voting_clf.voting = 'soft'\n",
    "voting_clf.score(X_test, y_test)"
   ]
  },
  {
   "cell_type": "code",
   "execution_count": 66,
   "id": "26868d1d",
   "metadata": {},
   "outputs": [
    {
     "data": {
      "text/plain": [
       "0.9648"
      ]
     },
     "execution_count": 66,
     "metadata": {},
     "output_type": "execute_result"
    }
   ],
   "source": [
    "voting_clf.voting = 'hard'\n",
    "voting_clf.score(X_test, y_test)"
   ]
  },
  {
   "cell_type": "code",
   "execution_count": null,
   "id": "e3de1b49",
   "metadata": {},
   "outputs": [],
   "source": []
  }
 ],
 "metadata": {
  "kernelspec": {
   "display_name": "Python 3",
   "language": "python",
   "name": "python3"
  },
  "language_info": {
   "codemirror_mode": {
    "name": "ipython",
    "version": 3
   },
   "file_extension": ".py",
   "mimetype": "text/x-python",
   "name": "python",
   "nbconvert_exporter": "python",
   "pygments_lexer": "ipython3",
   "version": "3.8.8"
  }
 },
 "nbformat": 4,
 "nbformat_minor": 5
}
